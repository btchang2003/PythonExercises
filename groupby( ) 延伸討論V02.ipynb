{
 "cells": [
  {
   "cell_type": "markdown",
   "metadata": {},
   "source": [
    "## 關於 df.groupby() 的延伸說明\n",
    "### 000  Pandas 的指令，所以要先匯入 Pandas，順便把常用套件一併匯入"
   ]
  },
  {
   "cell_type": "code",
   "execution_count": 1,
   "metadata": {},
   "outputs": [],
   "source": [
    "import numpy as np\n",
    "import pandas as pd\n",
    "import matplotlib.pyplot as plt\n",
    "import seaborn as sns"
   ]
  },
  {
   "cell_type": "markdown",
   "metadata": {},
   "source": [
    "\n",
    "#### 在我們的課程範本中，用 groupby() 處理原始流水帳，產製出 RFM 結構的數據表\n",
    "#### 其作用，與 Excel 的樞紐分析 Pivot 非常類似\n",
    "### 001 產生測試資料\n",
    "#### 首先，產生三個數列"
   ]
  },
  {
   "cell_type": "code",
   "execution_count": 2,
   "metadata": {},
   "outputs": [],
   "source": [
    "id=['A001','A002','A001','A003','A001','A003','A002']\n",
    "size=['M','L','M','S','L','S','M']\n",
    "amount=np.random.randint(100,1000,7)"
   ]
  },
  {
   "cell_type": "markdown",
   "metadata": {},
   "source": [
    "#### 用我們前面學過的進階函數功能，產生 Dataframe"
   ]
  },
  {
   "cell_type": "code",
   "execution_count": 3,
   "metadata": {},
   "outputs": [
    {
     "data": {
      "text/html": [
       "<div>\n",
       "<style scoped>\n",
       "    .dataframe tbody tr th:only-of-type {\n",
       "        vertical-align: middle;\n",
       "    }\n",
       "\n",
       "    .dataframe tbody tr th {\n",
       "        vertical-align: top;\n",
       "    }\n",
       "\n",
       "    .dataframe thead th {\n",
       "        text-align: right;\n",
       "    }\n",
       "</style>\n",
       "<table border=\"1\" class=\"dataframe\">\n",
       "  <thead>\n",
       "    <tr style=\"text-align: right;\">\n",
       "      <th></th>\n",
       "      <th>ID</th>\n",
       "      <th>Size</th>\n",
       "      <th>Amount</th>\n",
       "    </tr>\n",
       "  </thead>\n",
       "  <tbody>\n",
       "    <tr>\n",
       "      <td>0</td>\n",
       "      <td>A001</td>\n",
       "      <td>M</td>\n",
       "      <td>505</td>\n",
       "    </tr>\n",
       "    <tr>\n",
       "      <td>1</td>\n",
       "      <td>A002</td>\n",
       "      <td>L</td>\n",
       "      <td>422</td>\n",
       "    </tr>\n",
       "    <tr>\n",
       "      <td>2</td>\n",
       "      <td>A001</td>\n",
       "      <td>M</td>\n",
       "      <td>989</td>\n",
       "    </tr>\n",
       "    <tr>\n",
       "      <td>3</td>\n",
       "      <td>A003</td>\n",
       "      <td>S</td>\n",
       "      <td>417</td>\n",
       "    </tr>\n",
       "    <tr>\n",
       "      <td>4</td>\n",
       "      <td>A001</td>\n",
       "      <td>L</td>\n",
       "      <td>891</td>\n",
       "    </tr>\n",
       "    <tr>\n",
       "      <td>5</td>\n",
       "      <td>A003</td>\n",
       "      <td>S</td>\n",
       "      <td>991</td>\n",
       "    </tr>\n",
       "    <tr>\n",
       "      <td>6</td>\n",
       "      <td>A002</td>\n",
       "      <td>M</td>\n",
       "      <td>733</td>\n",
       "    </tr>\n",
       "  </tbody>\n",
       "</table>\n",
       "</div>"
      ],
      "text/plain": [
       "     ID Size  Amount\n",
       "0  A001    M     505\n",
       "1  A002    L     422\n",
       "2  A001    M     989\n",
       "3  A003    S     417\n",
       "4  A001    L     891\n",
       "5  A003    S     991\n",
       "6  A002    M     733"
      ]
     },
     "execution_count": 3,
     "metadata": {},
     "output_type": "execute_result"
    }
   ],
   "source": [
    "def sales(**kwargs):\n",
    "    import pandas as pd\n",
    "    return pd.DataFrame(kwargs)\n",
    "\n",
    "df=sales(ID=id,Size=size,Amount=amount)\n",
    "\n",
    "df"
   ]
  },
  {
   "cell_type": "markdown",
   "metadata": {},
   "source": [
    "## 002 groupby() 語法邏輯\n",
    "#### df.groupby() 只會產生一個 Object，不會形成資料表"
   ]
  },
  {
   "cell_type": "code",
   "execution_count": 4,
   "metadata": {},
   "outputs": [
    {
     "data": {
      "text/plain": [
       "<pandas.core.groupby.generic.DataFrameGroupBy object at 0x00000150A422B198>"
      ]
     },
     "execution_count": 4,
     "metadata": {},
     "output_type": "execute_result"
    }
   ],
   "source": [
    "table=df.groupby(['ID'])\n",
    "\n",
    "table"
   ]
  },
  {
   "cell_type": "markdown",
   "metadata": {},
   "source": [
    "#### 還要以 agg() 指令，將選定欄位之各種不同運算結果，聚合 (Aggregate) 產生新欄位，才會形成資料表 "
   ]
  },
  {
   "cell_type": "code",
   "execution_count": 5,
   "metadata": {},
   "outputs": [
    {
     "data": {
      "text/html": [
       "<div>\n",
       "<style scoped>\n",
       "    .dataframe tbody tr th:only-of-type {\n",
       "        vertical-align: middle;\n",
       "    }\n",
       "\n",
       "    .dataframe tbody tr th {\n",
       "        vertical-align: top;\n",
       "    }\n",
       "\n",
       "    .dataframe thead tr th {\n",
       "        text-align: left;\n",
       "    }\n",
       "\n",
       "    .dataframe thead tr:last-of-type th {\n",
       "        text-align: right;\n",
       "    }\n",
       "</style>\n",
       "<table border=\"1\" class=\"dataframe\">\n",
       "  <thead>\n",
       "    <tr>\n",
       "      <th></th>\n",
       "      <th colspan=\"3\" halign=\"left\">Size</th>\n",
       "      <th colspan=\"6\" halign=\"left\">Amount</th>\n",
       "    </tr>\n",
       "    <tr>\n",
       "      <th></th>\n",
       "      <th>count</th>\n",
       "      <th>unique</th>\n",
       "      <th>nunique</th>\n",
       "      <th>sum</th>\n",
       "      <th>max</th>\n",
       "      <th>min</th>\n",
       "      <th>mean</th>\n",
       "      <th>median</th>\n",
       "      <th>std</th>\n",
       "    </tr>\n",
       "    <tr>\n",
       "      <th>ID</th>\n",
       "      <th></th>\n",
       "      <th></th>\n",
       "      <th></th>\n",
       "      <th></th>\n",
       "      <th></th>\n",
       "      <th></th>\n",
       "      <th></th>\n",
       "      <th></th>\n",
       "      <th></th>\n",
       "    </tr>\n",
       "  </thead>\n",
       "  <tbody>\n",
       "    <tr>\n",
       "      <td>A001</td>\n",
       "      <td>3</td>\n",
       "      <td>[M, L]</td>\n",
       "      <td>2</td>\n",
       "      <td>2385</td>\n",
       "      <td>989</td>\n",
       "      <td>505</td>\n",
       "      <td>795.0</td>\n",
       "      <td>891.0</td>\n",
       "      <td>255.88</td>\n",
       "    </tr>\n",
       "    <tr>\n",
       "      <td>A002</td>\n",
       "      <td>2</td>\n",
       "      <td>[L, M]</td>\n",
       "      <td>2</td>\n",
       "      <td>1155</td>\n",
       "      <td>733</td>\n",
       "      <td>422</td>\n",
       "      <td>577.5</td>\n",
       "      <td>577.5</td>\n",
       "      <td>219.91</td>\n",
       "    </tr>\n",
       "    <tr>\n",
       "      <td>A003</td>\n",
       "      <td>2</td>\n",
       "      <td>[S]</td>\n",
       "      <td>1</td>\n",
       "      <td>1408</td>\n",
       "      <td>991</td>\n",
       "      <td>417</td>\n",
       "      <td>704.0</td>\n",
       "      <td>704.0</td>\n",
       "      <td>405.88</td>\n",
       "    </tr>\n",
       "  </tbody>\n",
       "</table>\n",
       "</div>"
      ],
      "text/plain": [
       "      Size                 Amount                                \n",
       "     count  unique nunique    sum  max  min   mean median     std\n",
       "ID                                                               \n",
       "A001     3  [M, L]       2   2385  989  505  795.0  891.0  255.88\n",
       "A002     2  [L, M]       2   1155  733  422  577.5  577.5  219.91\n",
       "A003     2     [S]       1   1408  991  417  704.0  704.0  405.88"
      ]
     },
     "execution_count": 5,
     "metadata": {},
     "output_type": "execute_result"
    }
   ],
   "source": [
    "table=table.agg(\n",
    "                {\n",
    "                'Size':['count','unique','nunique'],\n",
    "                'Amount':['sum','max','min','mean','median','std']\n",
    "                }\n",
    "                ).round(2)\n",
    "\n",
    "table"
   ]
  },
  {
   "cell_type": "markdown",
   "metadata": {},
   "source": [
    "#### 檢視以上結果，分辨 count、unique、nunique 的功能差別；\n",
    "#### sum(加總)、max(最大值)、min(最小值_、mean(平均值)、median(中位數)、std(標準差) 用法比較統一，應該沒有問題。"
   ]
  },
  {
   "cell_type": "markdown",
   "metadata": {},
   "source": [
    "## 003 處理多層欄標題\n",
    "#### 多層標題通常是為人工閱讀，所呈現的最終報表格式\n",
    "#### 數據處理階段，我們比較喜歡單層標題\n",
    "#### 以 df.columns 取出欄標題\n",
    "#### 雙層欄標題是一個 MultiIIndex 物件，各欄的多層標題，分別存放在 tuple 內"
   ]
  },
  {
   "cell_type": "code",
   "execution_count": 6,
   "metadata": {},
   "outputs": [
    {
     "data": {
      "text/plain": [
       "MultiIndex([(  'Size',   'count'),\n",
       "            (  'Size',  'unique'),\n",
       "            (  'Size', 'nunique'),\n",
       "            ('Amount',     'sum'),\n",
       "            ('Amount',     'max'),\n",
       "            ('Amount',     'min'),\n",
       "            ('Amount',    'mean'),\n",
       "            ('Amount',  'median'),\n",
       "            ('Amount',     'std')],\n",
       "           )"
      ]
     },
     "execution_count": 6,
     "metadata": {},
     "output_type": "execute_result"
    }
   ],
   "source": [
    "table.columns"
   ]
  },
  {
   "cell_type": "markdown",
   "metadata": {},
   "source": [
    "#### 以列表推導式，將雙層欄標題，轉換為 \"第一層-第二層\" 的形式，並取代原報表之雙層欄標題"
   ]
  },
  {
   "cell_type": "code",
   "execution_count": 7,
   "metadata": {},
   "outputs": [
    {
     "data": {
      "text/html": [
       "<div>\n",
       "<style scoped>\n",
       "    .dataframe tbody tr th:only-of-type {\n",
       "        vertical-align: middle;\n",
       "    }\n",
       "\n",
       "    .dataframe tbody tr th {\n",
       "        vertical-align: top;\n",
       "    }\n",
       "\n",
       "    .dataframe thead th {\n",
       "        text-align: right;\n",
       "    }\n",
       "</style>\n",
       "<table border=\"1\" class=\"dataframe\">\n",
       "  <thead>\n",
       "    <tr style=\"text-align: right;\">\n",
       "      <th></th>\n",
       "      <th>Size-Count</th>\n",
       "      <th>Size-Unique</th>\n",
       "      <th>Size-Nunique</th>\n",
       "      <th>Amount-Sum</th>\n",
       "      <th>Amount-Max</th>\n",
       "      <th>Amount-Min</th>\n",
       "      <th>Amount-Mean</th>\n",
       "      <th>Amount-Median</th>\n",
       "      <th>Amount-Std</th>\n",
       "    </tr>\n",
       "    <tr>\n",
       "      <th>ID</th>\n",
       "      <th></th>\n",
       "      <th></th>\n",
       "      <th></th>\n",
       "      <th></th>\n",
       "      <th></th>\n",
       "      <th></th>\n",
       "      <th></th>\n",
       "      <th></th>\n",
       "      <th></th>\n",
       "    </tr>\n",
       "  </thead>\n",
       "  <tbody>\n",
       "    <tr>\n",
       "      <td>A001</td>\n",
       "      <td>3</td>\n",
       "      <td>[M, L]</td>\n",
       "      <td>2</td>\n",
       "      <td>2385</td>\n",
       "      <td>989</td>\n",
       "      <td>505</td>\n",
       "      <td>795.0</td>\n",
       "      <td>891.0</td>\n",
       "      <td>255.88</td>\n",
       "    </tr>\n",
       "    <tr>\n",
       "      <td>A002</td>\n",
       "      <td>2</td>\n",
       "      <td>[L, M]</td>\n",
       "      <td>2</td>\n",
       "      <td>1155</td>\n",
       "      <td>733</td>\n",
       "      <td>422</td>\n",
       "      <td>577.5</td>\n",
       "      <td>577.5</td>\n",
       "      <td>219.91</td>\n",
       "    </tr>\n",
       "    <tr>\n",
       "      <td>A003</td>\n",
       "      <td>2</td>\n",
       "      <td>[S]</td>\n",
       "      <td>1</td>\n",
       "      <td>1408</td>\n",
       "      <td>991</td>\n",
       "      <td>417</td>\n",
       "      <td>704.0</td>\n",
       "      <td>704.0</td>\n",
       "      <td>405.88</td>\n",
       "    </tr>\n",
       "  </tbody>\n",
       "</table>\n",
       "</div>"
      ],
      "text/plain": [
       "      Size-Count Size-Unique  Size-Nunique  Amount-Sum  Amount-Max  \\\n",
       "ID                                                                   \n",
       "A001           3      [M, L]             2        2385         989   \n",
       "A002           2      [L, M]             2        1155         733   \n",
       "A003           2         [S]             1        1408         991   \n",
       "\n",
       "      Amount-Min  Amount-Mean  Amount-Median  Amount-Std  \n",
       "ID                                                        \n",
       "A001         505        795.0          891.0      255.88  \n",
       "A002         422        577.5          577.5      219.91  \n",
       "A003         417        704.0          704.0      405.88  "
      ]
     },
     "execution_count": 7,
     "metadata": {},
     "output_type": "execute_result"
    }
   ],
   "source": [
    "table.columns=[i[0]+'-'+(i[1].capitalize()) for i in table.columns]\n",
    "\n",
    "table"
   ]
  },
  {
   "cell_type": "markdown",
   "metadata": {},
   "source": [
    "#### 最後，將分組依據 (ID)欄位，由 index 欄，恢復為資料欄"
   ]
  },
  {
   "cell_type": "code",
   "execution_count": 8,
   "metadata": {},
   "outputs": [
    {
     "data": {
      "text/html": [
       "<div>\n",
       "<style scoped>\n",
       "    .dataframe tbody tr th:only-of-type {\n",
       "        vertical-align: middle;\n",
       "    }\n",
       "\n",
       "    .dataframe tbody tr th {\n",
       "        vertical-align: top;\n",
       "    }\n",
       "\n",
       "    .dataframe thead th {\n",
       "        text-align: right;\n",
       "    }\n",
       "</style>\n",
       "<table border=\"1\" class=\"dataframe\">\n",
       "  <thead>\n",
       "    <tr style=\"text-align: right;\">\n",
       "      <th></th>\n",
       "      <th>ID</th>\n",
       "      <th>Size-Count</th>\n",
       "      <th>Size-Unique</th>\n",
       "      <th>Size-Nunique</th>\n",
       "      <th>Amount-Sum</th>\n",
       "      <th>Amount-Max</th>\n",
       "      <th>Amount-Min</th>\n",
       "      <th>Amount-Mean</th>\n",
       "      <th>Amount-Median</th>\n",
       "      <th>Amount-Std</th>\n",
       "    </tr>\n",
       "  </thead>\n",
       "  <tbody>\n",
       "    <tr>\n",
       "      <td>0</td>\n",
       "      <td>A001</td>\n",
       "      <td>3</td>\n",
       "      <td>[M, L]</td>\n",
       "      <td>2</td>\n",
       "      <td>2385</td>\n",
       "      <td>989</td>\n",
       "      <td>505</td>\n",
       "      <td>795.0</td>\n",
       "      <td>891.0</td>\n",
       "      <td>255.88</td>\n",
       "    </tr>\n",
       "    <tr>\n",
       "      <td>1</td>\n",
       "      <td>A002</td>\n",
       "      <td>2</td>\n",
       "      <td>[L, M]</td>\n",
       "      <td>2</td>\n",
       "      <td>1155</td>\n",
       "      <td>733</td>\n",
       "      <td>422</td>\n",
       "      <td>577.5</td>\n",
       "      <td>577.5</td>\n",
       "      <td>219.91</td>\n",
       "    </tr>\n",
       "    <tr>\n",
       "      <td>2</td>\n",
       "      <td>A003</td>\n",
       "      <td>2</td>\n",
       "      <td>[S]</td>\n",
       "      <td>1</td>\n",
       "      <td>1408</td>\n",
       "      <td>991</td>\n",
       "      <td>417</td>\n",
       "      <td>704.0</td>\n",
       "      <td>704.0</td>\n",
       "      <td>405.88</td>\n",
       "    </tr>\n",
       "  </tbody>\n",
       "</table>\n",
       "</div>"
      ],
      "text/plain": [
       "     ID  Size-Count Size-Unique  Size-Nunique  Amount-Sum  Amount-Max  \\\n",
       "0  A001           3      [M, L]             2        2385         989   \n",
       "1  A002           2      [L, M]             2        1155         733   \n",
       "2  A003           2         [S]             1        1408         991   \n",
       "\n",
       "   Amount-Min  Amount-Mean  Amount-Median  Amount-Std  \n",
       "0         505        795.0          891.0      255.88  \n",
       "1         422        577.5          577.5      219.91  \n",
       "2         417        704.0          704.0      405.88  "
      ]
     },
     "execution_count": 8,
     "metadata": {},
     "output_type": "execute_result"
    }
   ],
   "source": [
    "table=table.reset_index()\n",
    "\n",
    "table"
   ]
  },
  {
   "cell_type": "markdown",
   "metadata": {},
   "source": [
    "## The End"
   ]
  },
  {
   "cell_type": "code",
   "execution_count": null,
   "metadata": {},
   "outputs": [],
   "source": []
  }
 ],
 "metadata": {
  "kernelspec": {
   "display_name": "Python 3",
   "language": "python",
   "name": "python3"
  },
  "language_info": {
   "codemirror_mode": {
    "name": "ipython",
    "version": 3
   },
   "file_extension": ".py",
   "mimetype": "text/x-python",
   "name": "python",
   "nbconvert_exporter": "python",
   "pygments_lexer": "ipython3",
   "version": "3.7.1"
  }
 },
 "nbformat": 4,
 "nbformat_minor": 2
}
